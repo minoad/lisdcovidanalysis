{
 "cells": [
  {
   "cell_type": "code",
   "execution_count": 14,
   "metadata": {
    "collapsed": true
   },
   "outputs": [
    {
     "name": "stdout",
     "output_type": "stream",
     "text": [
      "Requirement already satisfied: google-api-python-client in /Users/jlmayorga/sandbox/personal/lisdcovidanalysis/venv/lib/python3.9/site-packages (2.17.0)\r\n",
      "Requirement already satisfied: google-auth-httplib2 in /Users/jlmayorga/sandbox/personal/lisdcovidanalysis/venv/lib/python3.9/site-packages (0.1.0)\r\n",
      "Requirement already satisfied: google-auth-oauthlib in /Users/jlmayorga/sandbox/personal/lisdcovidanalysis/venv/lib/python3.9/site-packages (0.4.5)\r\n",
      "Requirement already satisfied: pandas in /Users/jlmayorga/sandbox/personal/lisdcovidanalysis/venv/lib/python3.9/site-packages (1.3.2)\r\n",
      "Requirement already satisfied: uritemplate<4dev,>=3.0.0 in /Users/jlmayorga/sandbox/personal/lisdcovidanalysis/venv/lib/python3.9/site-packages (from google-api-python-client) (3.0.1)\r\n",
      "Requirement already satisfied: httplib2<1dev,>=0.15.0 in /Users/jlmayorga/sandbox/personal/lisdcovidanalysis/venv/lib/python3.9/site-packages (from google-api-python-client) (0.19.1)\r\n",
      "Requirement already satisfied: google-api-core<3.0.0dev,>=1.21.0 in /Users/jlmayorga/sandbox/personal/lisdcovidanalysis/venv/lib/python3.9/site-packages (from google-api-python-client) (2.0.0)\r\n",
      "Requirement already satisfied: google-auth<3.0.0dev,>=1.16.0 in /Users/jlmayorga/sandbox/personal/lisdcovidanalysis/venv/lib/python3.9/site-packages (from google-api-python-client) (2.0.1)\r\n",
      "Requirement already satisfied: six in /Users/jlmayorga/sandbox/personal/lisdcovidanalysis/venv/lib/python3.9/site-packages (from google-auth-httplib2) (1.16.0)\r\n",
      "Requirement already satisfied: requests<3.0.0dev,>=2.18.0 in /Users/jlmayorga/sandbox/personal/lisdcovidanalysis/venv/lib/python3.9/site-packages (from google-api-core<3.0.0dev,>=1.21.0->google-api-python-client) (2.26.0)\r\n",
      "Requirement already satisfied: googleapis-common-protos<2.0dev,>=1.6.0 in /Users/jlmayorga/sandbox/personal/lisdcovidanalysis/venv/lib/python3.9/site-packages (from google-api-core<3.0.0dev,>=1.21.0->google-api-python-client) (1.53.0)\r\n",
      "Requirement already satisfied: setuptools>=40.3.0 in /Users/jlmayorga/sandbox/personal/lisdcovidanalysis/venv/lib/python3.9/site-packages (from google-api-core<3.0.0dev,>=1.21.0->google-api-python-client) (57.0.0)\r\n",
      "Requirement already satisfied: protobuf>=3.12.0 in /Users/jlmayorga/sandbox/personal/lisdcovidanalysis/venv/lib/python3.9/site-packages (from google-api-core<3.0.0dev,>=1.21.0->google-api-python-client) (3.17.3)\r\n",
      "Requirement already satisfied: cachetools<5.0,>=2.0.0 in /Users/jlmayorga/sandbox/personal/lisdcovidanalysis/venv/lib/python3.9/site-packages (from google-auth<3.0.0dev,>=1.16.0->google-api-python-client) (4.2.2)\r\n",
      "Requirement already satisfied: rsa<5,>=3.1.4 in /Users/jlmayorga/sandbox/personal/lisdcovidanalysis/venv/lib/python3.9/site-packages (from google-auth<3.0.0dev,>=1.16.0->google-api-python-client) (4.7.2)\r\n",
      "Requirement already satisfied: pyasn1-modules>=0.2.1 in /Users/jlmayorga/sandbox/personal/lisdcovidanalysis/venv/lib/python3.9/site-packages (from google-auth<3.0.0dev,>=1.16.0->google-api-python-client) (0.2.8)\r\n",
      "Requirement already satisfied: pyparsing<3,>=2.4.2 in /Users/jlmayorga/sandbox/personal/lisdcovidanalysis/venv/lib/python3.9/site-packages (from httplib2<1dev,>=0.15.0->google-api-python-client) (2.4.7)\r\n",
      "Requirement already satisfied: pyasn1<0.5.0,>=0.4.6 in /Users/jlmayorga/sandbox/personal/lisdcovidanalysis/venv/lib/python3.9/site-packages (from pyasn1-modules>=0.2.1->google-auth<3.0.0dev,>=1.16.0->google-api-python-client) (0.4.8)\r\n",
      "Requirement already satisfied: certifi>=2017.4.17 in /Users/jlmayorga/sandbox/personal/lisdcovidanalysis/venv/lib/python3.9/site-packages (from requests<3.0.0dev,>=2.18.0->google-api-core<3.0.0dev,>=1.21.0->google-api-python-client) (2021.5.30)\r\n",
      "Requirement already satisfied: charset-normalizer~=2.0.0 in /Users/jlmayorga/sandbox/personal/lisdcovidanalysis/venv/lib/python3.9/site-packages (from requests<3.0.0dev,>=2.18.0->google-api-core<3.0.0dev,>=1.21.0->google-api-python-client) (2.0.4)\r\n",
      "Requirement already satisfied: urllib3<1.27,>=1.21.1 in /Users/jlmayorga/sandbox/personal/lisdcovidanalysis/venv/lib/python3.9/site-packages (from requests<3.0.0dev,>=2.18.0->google-api-core<3.0.0dev,>=1.21.0->google-api-python-client) (1.26.6)\r\n",
      "Requirement already satisfied: idna<4,>=2.5 in /Users/jlmayorga/sandbox/personal/lisdcovidanalysis/venv/lib/python3.9/site-packages (from requests<3.0.0dev,>=2.18.0->google-api-core<3.0.0dev,>=1.21.0->google-api-python-client) (3.2)\r\n",
      "Requirement already satisfied: requests-oauthlib>=0.7.0 in /Users/jlmayorga/sandbox/personal/lisdcovidanalysis/venv/lib/python3.9/site-packages (from google-auth-oauthlib) (1.3.0)\r\n",
      "Requirement already satisfied: oauthlib>=3.0.0 in /Users/jlmayorga/sandbox/personal/lisdcovidanalysis/venv/lib/python3.9/site-packages (from requests-oauthlib>=0.7.0->google-auth-oauthlib) (3.1.1)\r\n",
      "Requirement already satisfied: python-dateutil>=2.7.3 in /Users/jlmayorga/sandbox/personal/lisdcovidanalysis/venv/lib/python3.9/site-packages (from pandas) (2.8.2)\r\n",
      "Requirement already satisfied: numpy>=1.17.3 in /Users/jlmayorga/sandbox/personal/lisdcovidanalysis/venv/lib/python3.9/site-packages (from pandas) (1.21.2)\r\n",
      "Requirement already satisfied: pytz>=2017.3 in /Users/jlmayorga/sandbox/personal/lisdcovidanalysis/venv/lib/python3.9/site-packages (from pandas) (2021.1)\r\n",
      "\u001B[33mWARNING: You are using pip version 21.1.2; however, version 21.2.4 is available.\r\n",
      "You should consider upgrading via the '/Users/jlmayorga/sandbox/personal/lisdcovidanalysis/venv/bin/python -m pip install --upgrade pip' command.\u001B[0m\r\n"
     ]
    }
   ],
   "source": [
    "import sys\n",
    "!{sys.executable} -m pip install --upgrade google-api-python-client google-auth-httplib2 google-auth-oauthlib pandas"
   ]
  },
  {
   "cell_type": "code",
   "execution_count": 15,
   "outputs": [],
   "source": [
    "from googleapiclient.discovery import build\n",
    "import pandas as pd\n",
    "\n",
    "# If modifying these scopes, delete the file token.json.\n",
    "SCOPES = ['https://www.googleapis.com/auth/spreadsheets.readonly']\n",
    "# The ID and range of a sample spreadsheet.\n",
    "SAMPLE_SPREADSHEET_ID = '1tntE5QMCliVMqLfy1SyeKEZz-Uefk2coQjo1eJB5Zb8'\n",
    "SAMPLE_RANGE_NAME = 'Positive COVID-19 Cases!A3:AH'\n"
   ],
   "metadata": {
    "collapsed": false,
    "pycharm": {
     "name": "#%%\n"
    }
   }
  },
  {
   "cell_type": "markdown",
   "source": [
    "Follow these instructions to get a Google API Key https://developers.google.com/sheets/api/guides/authorizing#APIKey"
   ],
   "metadata": {
    "collapsed": false,
    "pycharm": {
     "name": "#%% md\n"
    }
   }
  },
  {
   "cell_type": "code",
   "execution_count": 16,
   "outputs": [],
   "source": [
    "api_key = 'FIX ME: Use a valid Google API Key'\n",
    "service = build('sheets', 'v4', developerKey=api_key)\n",
    "\n",
    "# Call the Sheets API\n",
    "sheet = service.spreadsheets()\n",
    "result = sheet.values().get(spreadsheetId=SAMPLE_SPREADSHEET_ID,\n",
    "                            range=SAMPLE_RANGE_NAME).execute()\n",
    "values = result.get('values', [])\n"
   ],
   "metadata": {
    "collapsed": false,
    "pycharm": {
     "name": "#%%\n"
    }
   }
  },
  {
   "cell_type": "code",
   "execution_count": 17,
   "outputs": [
    {
     "data": {
      "text/plain": "                  0         1      2                 3   \\\n0  8/5/2021 19:27:58  8/5/2021  Staff         Bagdad ES   \n1  8/6/2021 15:36:20  8/6/2021  Staff     Vandegrift HS   \n2   8/9/2021 8:05:44  8/7/2021  Staff      Danielson MS   \n3   8/9/2021 8:08:19  8/9/2021  Staff        Camacho ES   \n4   8/9/2021 8:11:25  8/8/2021  Staff  Steiner Ranch ES   \n\n                                           4     5     6     7     8     9   \\\n0                                        None  None  None  None  None  None   \n1  Last on campus 8/4, symptoms developed 8/4  None  None  None  None  None   \n2                                        None  None  None  None  None  None   \n3                                        None  None  None  None  None  None   \n4                                        None  None  None  None  None  None   \n\n   ...    24    25    26    27    28    29    30    31    32    33  \n0  ...  None  None  None  None  None  None  None  None  None  None  \n1  ...  None  None  None  None  None  None  None  None  None  None  \n2  ...  None  None  None  None  None  None  None  None  None  None  \n3  ...  None  None  None  None  None  None  None  None  None  None  \n4  ...  None  None  None  None  None  None  None  None  None  None  \n\n[5 rows x 34 columns]",
      "text/html": "<div>\n<style scoped>\n    .dataframe tbody tr th:only-of-type {\n        vertical-align: middle;\n    }\n\n    .dataframe tbody tr th {\n        vertical-align: top;\n    }\n\n    .dataframe thead th {\n        text-align: right;\n    }\n</style>\n<table border=\"1\" class=\"dataframe\">\n  <thead>\n    <tr style=\"text-align: right;\">\n      <th></th>\n      <th>0</th>\n      <th>1</th>\n      <th>2</th>\n      <th>3</th>\n      <th>4</th>\n      <th>5</th>\n      <th>6</th>\n      <th>7</th>\n      <th>8</th>\n      <th>9</th>\n      <th>...</th>\n      <th>24</th>\n      <th>25</th>\n      <th>26</th>\n      <th>27</th>\n      <th>28</th>\n      <th>29</th>\n      <th>30</th>\n      <th>31</th>\n      <th>32</th>\n      <th>33</th>\n    </tr>\n  </thead>\n  <tbody>\n    <tr>\n      <th>0</th>\n      <td>8/5/2021 19:27:58</td>\n      <td>8/5/2021</td>\n      <td>Staff</td>\n      <td>Bagdad ES</td>\n      <td>None</td>\n      <td>None</td>\n      <td>None</td>\n      <td>None</td>\n      <td>None</td>\n      <td>None</td>\n      <td>...</td>\n      <td>None</td>\n      <td>None</td>\n      <td>None</td>\n      <td>None</td>\n      <td>None</td>\n      <td>None</td>\n      <td>None</td>\n      <td>None</td>\n      <td>None</td>\n      <td>None</td>\n    </tr>\n    <tr>\n      <th>1</th>\n      <td>8/6/2021 15:36:20</td>\n      <td>8/6/2021</td>\n      <td>Staff</td>\n      <td>Vandegrift HS</td>\n      <td>Last on campus 8/4, symptoms developed 8/4</td>\n      <td>None</td>\n      <td>None</td>\n      <td>None</td>\n      <td>None</td>\n      <td>None</td>\n      <td>...</td>\n      <td>None</td>\n      <td>None</td>\n      <td>None</td>\n      <td>None</td>\n      <td>None</td>\n      <td>None</td>\n      <td>None</td>\n      <td>None</td>\n      <td>None</td>\n      <td>None</td>\n    </tr>\n    <tr>\n      <th>2</th>\n      <td>8/9/2021 8:05:44</td>\n      <td>8/7/2021</td>\n      <td>Staff</td>\n      <td>Danielson MS</td>\n      <td>None</td>\n      <td>None</td>\n      <td>None</td>\n      <td>None</td>\n      <td>None</td>\n      <td>None</td>\n      <td>...</td>\n      <td>None</td>\n      <td>None</td>\n      <td>None</td>\n      <td>None</td>\n      <td>None</td>\n      <td>None</td>\n      <td>None</td>\n      <td>None</td>\n      <td>None</td>\n      <td>None</td>\n    </tr>\n    <tr>\n      <th>3</th>\n      <td>8/9/2021 8:08:19</td>\n      <td>8/9/2021</td>\n      <td>Staff</td>\n      <td>Camacho ES</td>\n      <td>None</td>\n      <td>None</td>\n      <td>None</td>\n      <td>None</td>\n      <td>None</td>\n      <td>None</td>\n      <td>...</td>\n      <td>None</td>\n      <td>None</td>\n      <td>None</td>\n      <td>None</td>\n      <td>None</td>\n      <td>None</td>\n      <td>None</td>\n      <td>None</td>\n      <td>None</td>\n      <td>None</td>\n    </tr>\n    <tr>\n      <th>4</th>\n      <td>8/9/2021 8:11:25</td>\n      <td>8/8/2021</td>\n      <td>Staff</td>\n      <td>Steiner Ranch ES</td>\n      <td>None</td>\n      <td>None</td>\n      <td>None</td>\n      <td>None</td>\n      <td>None</td>\n      <td>None</td>\n      <td>...</td>\n      <td>None</td>\n      <td>None</td>\n      <td>None</td>\n      <td>None</td>\n      <td>None</td>\n      <td>None</td>\n      <td>None</td>\n      <td>None</td>\n      <td>None</td>\n      <td>None</td>\n    </tr>\n  </tbody>\n</table>\n<p>5 rows × 34 columns</p>\n</div>"
     },
     "execution_count": 17,
     "metadata": {},
     "output_type": "execute_result"
    }
   ],
   "source": [
    "df=pd.DataFrame(values[1:])\n",
    "df.head()\n"
   ],
   "metadata": {
    "collapsed": false,
    "pycharm": {
     "name": "#%%\n"
    }
   }
  }
 ],
 "metadata": {
  "kernelspec": {
   "display_name": "Python 3",
   "language": "python",
   "name": "python3"
  },
  "language_info": {
   "codemirror_mode": {
    "name": "ipython",
    "version": 2
   },
   "file_extension": ".py",
   "mimetype": "text/x-python",
   "name": "python",
   "nbconvert_exporter": "python",
   "pygments_lexer": "ipython2",
   "version": "2.7.6"
  }
 },
 "nbformat": 4,
 "nbformat_minor": 0
}