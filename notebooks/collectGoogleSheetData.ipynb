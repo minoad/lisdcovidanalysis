{
 "cells": [
  {
   "cell_type": "markdown",
   "source": [
    "pip install --upgrade google-api-python-client google-auth-httplib2 google-auth-oauthlib"
   ],
   "metadata": {}
  },
  {
   "cell_type": "code",
   "execution_count": 1,
   "source": [
    "# https://developers.google.com/sheets/api/quickstart/python\r\n",
    "lisdPositiveCaseGoogleSheetURI = \"https://docs.google.com/spreadsheets/d/1zyEfyCwd061b92EK_Pzk7cGw0y04u5s4Bk1XjXKMlJM/edit#gid=0\"\r\n"
   ],
   "outputs": [],
   "metadata": {}
  },
  {
   "cell_type": "code",
   "execution_count": 8,
   "source": [
    "def generateCreds():\r\n",
    "    creds = None\r\n",
    "\r\n",
    "    if os.path.exists('token.json'):\r\n",
    "        creds = Credentials.from_authorized_user_file('token.json', ['https://www.googleapis.com/auth/spreadsheets.readonly'])\r\n",
    "\r\n",
    "    if not creds or not creds.valid:\r\n",
    "        #creds.refresh(Request())\r\n",
    "        flow = InstalledAppFlow.from_client_secrets_file('credentials.json', SCOPES)"
   ],
   "outputs": [],
   "metadata": {}
  },
  {
   "cell_type": "code",
   "execution_count": 9,
   "source": [
    "generateCreds()"
   ],
   "outputs": [
    {
     "output_type": "error",
     "ename": "AttributeError",
     "evalue": "'NoneType' object has no attribute 'refresh'",
     "traceback": [
      "\u001b[1;31m---------------------------------------------------------------------------\u001b[0m",
      "\u001b[1;31mAttributeError\u001b[0m                            Traceback (most recent call last)",
      "\u001b[1;32m~\\AppData\\Local\\Temp/ipykernel_14844/1734552103.py\u001b[0m in \u001b[0;36m<module>\u001b[1;34m\u001b[0m\n\u001b[1;32m----> 1\u001b[1;33m \u001b[0mgenerateCreds\u001b[0m\u001b[1;33m(\u001b[0m\u001b[1;33m)\u001b[0m\u001b[1;33m\u001b[0m\u001b[1;33m\u001b[0m\u001b[0m\n\u001b[0m",
      "\u001b[1;32m~\\AppData\\Local\\Temp/ipykernel_14844/2429861420.py\u001b[0m in \u001b[0;36mgenerateCreds\u001b[1;34m()\u001b[0m\n\u001b[0;32m      6\u001b[0m \u001b[1;33m\u001b[0m\u001b[0m\n\u001b[0;32m      7\u001b[0m     \u001b[1;32mif\u001b[0m \u001b[1;32mnot\u001b[0m \u001b[0mcreds\u001b[0m \u001b[1;32mor\u001b[0m \u001b[1;32mnot\u001b[0m \u001b[0mcreds\u001b[0m\u001b[1;33m.\u001b[0m\u001b[0mvalid\u001b[0m\u001b[1;33m:\u001b[0m\u001b[1;33m\u001b[0m\u001b[1;33m\u001b[0m\u001b[0m\n\u001b[1;32m----> 8\u001b[1;33m         \u001b[0mcreds\u001b[0m\u001b[1;33m.\u001b[0m\u001b[0mrefresh\u001b[0m\u001b[1;33m(\u001b[0m\u001b[0mRequest\u001b[0m\u001b[1;33m(\u001b[0m\u001b[1;33m)\u001b[0m\u001b[1;33m)\u001b[0m\u001b[1;33m\u001b[0m\u001b[1;33m\u001b[0m\u001b[0m\n\u001b[0m",
      "\u001b[1;31mAttributeError\u001b[0m: 'NoneType' object has no attribute 'refresh'"
     ]
    }
   ],
   "metadata": {}
  },
  {
   "cell_type": "code",
   "execution_count": 5,
   "source": [
    "from __future__ import print_function\r\n",
    "import os.path\r\n",
    "from googleapiclient.discovery import build\r\n",
    "from google_auth_oauthlib.flow import InstalledAppFlow\r\n",
    "from google.auth.transport.requests import Request\r\n",
    "from google.oauth2.credentials import Credentials\r\n",
    "\r\n",
    "# If modifying these scopes, delete the file token.json.\r\n",
    "SCOPES = ['https://www.googleapis.com/auth/spreadsheets.readonly']\r\n",
    "\r\n",
    "# The ID and range of a sample spreadsheet.\r\n",
    "SAMPLE_SPREADSHEET_ID = '1BxiMVs0XRA5nFMdKvBdBZjgmUUqptlbs74OgvE2upms'\r\n",
    "SAMPLE_RANGE_NAME = 'Class Data!A2:E'\r\n",
    "\r\n",
    "def main():\r\n",
    "    \"\"\"Shows basic usage of the Sheets API.\r\n",
    "    Prints values from a sample spreadsheet.\r\n",
    "    \"\"\"\r\n",
    "    creds = None\r\n",
    "    # The file token.json stores the user's access and refresh tokens, and is\r\n",
    "    # created automatically when the authorization flow completes for the first\r\n",
    "    # time.\r\n",
    "    if os.path.exists('token.json'):\r\n",
    "        creds = Credentials.from_authorized_user_file('token.json', SCOPES)\r\n",
    "    # If there are no (valid) credentials available, let the user log in.\r\n",
    "    if not creds or not creds.valid:\r\n",
    "        if creds and creds.expired and creds.refresh_token:\r\n",
    "            creds.refresh(Request())\r\n",
    "        else:\r\n",
    "            flow = InstalledAppFlow.from_client_secrets_file('credentials.json', SCOPES)\r\n",
    "            creds = flow.run_local_server(port=0)\r\n",
    "        # Save the credentials for the next run\r\n",
    "        with open('token.json', 'w') as token:\r\n",
    "            token.write(creds.to_json())\r\n",
    "\r\n",
    "    service = build('sheets', 'v4', credentials=creds)\r\n",
    "\r\n",
    "    # Call the Sheets API\r\n",
    "    sheet = service.spreadsheets()\r\n",
    "    result = sheet.values().get(spreadsheetId=SAMPLE_SPREADSHEET_ID,\r\n",
    "                                range=SAMPLE_RANGE_NAME).execute()\r\n",
    "    values = result.get('values', [])\r\n",
    "\r\n",
    "    if not values:\r\n",
    "        print('No data found.')\r\n",
    "    else:\r\n",
    "        print('Name, Major:')\r\n",
    "        for row in values:\r\n",
    "            # Print columns A and E, which correspond to indices 0 and 4.\r\n",
    "            print('%s, %s' % (row[0], row[4]))\r\n",
    "\r\n"
   ],
   "outputs": [],
   "metadata": {}
  },
  {
   "cell_type": "code",
   "execution_count": null,
   "source": [],
   "outputs": [],
   "metadata": {}
  }
 ],
 "metadata": {
  "orig_nbformat": 4,
  "language_info": {
   "name": "python",
   "version": "3.8.11",
   "mimetype": "text/x-python",
   "codemirror_mode": {
    "name": "ipython",
    "version": 3
   },
   "pygments_lexer": "ipython3",
   "nbconvert_exporter": "python",
   "file_extension": ".py"
  },
  "kernelspec": {
   "name": "python3",
   "display_name": "Python 3.8.11 64-bit ('lisdcovidanalysis': conda)"
  },
  "interpreter": {
   "hash": "198126c3d5502b73947eeb7e6cd44dcecb88694221a740f61375f0e78ceb9120"
  }
 },
 "nbformat": 4,
 "nbformat_minor": 2
}